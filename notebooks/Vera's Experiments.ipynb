{
 "cells": [
  {
   "cell_type": "code",
   "execution_count": 1,
   "metadata": {},
   "outputs": [
    {
     "name": "stderr",
     "output_type": "stream",
     "text": [
      "Using TensorFlow backend.\n",
      "Building prefix dict from the default dictionary ...\n",
      "Loading model from cache /tmp/jieba.cache\n",
      "Loading model cost 0.240 seconds.\n",
      "Prefix dict has been built succesfully.\n"
     ]
    }
   ],
   "source": [
    "#! /usr/bin/env python\n",
    "#-*- coding:utf-8 -*-\n",
    "\n",
    "from utils import *\n",
    "from segment import Segmenter\n",
    "from vocab import get_vocab, VOCAB_SIZE\n",
    "from quatrains import get_quatrains\n",
    "from gensim import models\n",
    "from numpy.random import uniform\n",
    "\n",
    "ndim = 128"
   ]
  },
  {
   "cell_type": "markdown",
   "metadata": {},
   "source": [
    "## New Word2Vec"
   ]
  },
  {
   "cell_type": "code",
   "execution_count": 2,
   "metadata": {
    "collapsed": true
   },
   "outputs": [],
   "source": [
    "# print \"Generating %d-dim word embedding ...\" %ndim\n",
    "# int2ch, ch2int = get_vocab()\n",
    "# ch_lists = []\n",
    "# quatrains = get_quatrains()\n",
    "# for idx, poem in enumerate(quatrains):\n",
    "#     for sentence in poem['sentences']:\n",
    "#         ch_lists.append(filter(lambda ch: ch in ch2int, sentence))\n",
    "#     # the i-th characters in the poem, used to boost Dui Zhang\n",
    "#     i_characters = [[sentence[j] for sentence in poem['sentences']] for j in range(len(poem['sentences'][0]))]\n",
    "#     for characters in i_characters:\n",
    "#         ch_lists.append(filter(lambda ch: ch in ch2int, characters))\n",
    "#     if 0 == (idx+1)%10000:\n",
    "#         print \"[Word2Vec] %d/%d poems have been processed.\" %(idx+1, len(quatrains))"
   ]
  },
  {
   "cell_type": "code",
   "execution_count": 3,
   "metadata": {
    "collapsed": true
   },
   "outputs": [],
   "source": [
    "# print \"Hold on. This may take some time ...\"\n",
    "# model = models.Word2Vec(ch_lists, size = ndim, min_count = 5)\n",
    "# embedding = uniform(-1.0, 1.0, [VOCAB_SIZE, ndim])\n",
    "# for idx, ch in enumerate(int2ch):\n",
    "#     if ch in model.wv:\n",
    "#         embedding[idx,:] = model.wv[ch]\n",
    "# np.save(_w2v_path, embedding)\n",
    "# print \"Word embedding is saved.\""
   ]
  },
  {
   "cell_type": "markdown",
   "metadata": {},
   "source": [
    "## Seq to Seq"
   ]
  },
  {
   "cell_type": "code",
   "execution_count": null,
   "metadata": {
    "collapsed": true
   },
   "outputs": [],
   "source": []
  }
 ],
 "metadata": {
  "kernelspec": {
   "display_name": "Python 2",
   "language": "python",
   "name": "python2"
  },
  "language_info": {
   "codemirror_mode": {
    "name": "ipython",
    "version": 2
   },
   "file_extension": ".py",
   "mimetype": "text/x-python",
   "name": "python",
   "nbconvert_exporter": "python",
   "pygments_lexer": "ipython2",
   "version": "2.7.13"
  }
 },
 "nbformat": 4,
 "nbformat_minor": 2
}
